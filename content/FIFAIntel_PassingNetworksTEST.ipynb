{
 "cells": [
  {
   "cell_type": "markdown",
   "id": "88514696-0487-49ff-b04c-97e2a9ddcf33",
   "metadata": {},
   "source": [
    "## Replicating FIFA Football Intelligence - Passing Networks (Players within a Team)"
   ]
  },
  {
   "cell_type": "markdown",
   "id": "602c384a-ff52-4649-9ecf-8be878f28349",
   "metadata": {},
   "source": [
    "---\n",
    "> ### 1. SET UP DEVELOPMENT ENVIRONMENT"
   ]
  },
  {
   "cell_type": "markdown",
   "id": "87f3862e-2f56-4a04-b810-6b81f494303d",
   "metadata": {},
   "source": [
    "**1.0 Import required Python software into current development environment (i.e. this notebook)**\n",
    "```\n",
    "import pandas as pd\n",
    "```"
   ]
  },
  {
   "cell_type": "code",
   "execution_count": null,
   "id": "3d2828f3-f3e6-4ffb-b4cb-33f97dfaf6aa",
   "metadata": {},
   "outputs": [],
   "source": []
  },
  {
   "cell_type": "code",
   "execution_count": null,
   "id": "e03b1305-a714-4017-bbf9-1b89703ab82b",
   "metadata": {},
   "outputs": [],
   "source": []
  },
  {
   "cell_type": "markdown",
   "id": "f58b7a19-5303-4cb1-91dd-86aa075964e3",
   "metadata": {},
   "source": [
    "**1.1 Configure notebook for code autocompletion + displaying plots + displaying max & min rows of panda data objects**\n",
    "```\n",
    "%config Completer.use_jedi = False\n",
    "%matplotlib inline\n",
    "pd.options.display.max_rows, pd.options.display.min_rows = 20, 20\n",
    "```"
   ]
  },
  {
   "cell_type": "code",
   "execution_count": null,
   "id": "f8334146-a439-4b92-b2e0-da03bf84c683",
   "metadata": {},
   "outputs": [],
   "source": []
  },
  {
   "cell_type": "code",
   "execution_count": null,
   "id": "52a454fb-026c-4a9e-bb2c-dd0a35194b2b",
   "metadata": {},
   "outputs": [],
   "source": []
  },
  {
   "cell_type": "markdown",
   "id": "62c7c1c2-d755-4608-b612-e07e47f6c00c",
   "metadata": {},
   "source": [
    "---\n",
    "> ### 2. LOAD & CHECK THE FOOTBALL DATA"
   ]
  },
  {
   "cell_type": "markdown",
   "id": "627d6942-4a47-4ef8-9564-8b3818b26678",
   "metadata": {},
   "source": [
    "**2.0** Read in the `match_data.csv` file located in the `data` directory (folder):\n",
    "```\n",
    "raw_data = pd.read_csv(\"data/match_data.csv\")\n",
    "```"
   ]
  },
  {
   "cell_type": "code",
   "execution_count": null,
   "id": "ebcb8880-cb3d-4c64-a81a-1b4f49535824",
   "metadata": {},
   "outputs": [],
   "source": []
  },
  {
   "cell_type": "code",
   "execution_count": null,
   "id": "e93cece3-eefa-4ccd-aa35-9a2dc3283489",
   "metadata": {},
   "outputs": [],
   "source": []
  },
  {
   "cell_type": "markdown",
   "id": "364e5f2b-5aa4-4f01-9a46-082821090c1e",
   "metadata": {},
   "source": [
    "**2.1** Make a copy of raw data to work on called `df`:\n",
    "\n",
    "```\n",
    "df = raw_data.copy()\n",
    "```"
   ]
  },
  {
   "cell_type": "code",
   "execution_count": null,
   "id": "110079ae-4e38-4672-aac5-05e9ac88532c",
   "metadata": {},
   "outputs": [],
   "source": []
  },
  {
   "cell_type": "code",
   "execution_count": null,
   "id": "21d131da-81c8-4165-b2bb-e986b7b7a616",
   "metadata": {},
   "outputs": [],
   "source": []
  },
  {
   "cell_type": "markdown",
   "id": "149a79b9-dad4-4b7c-a136-132b85787631",
   "metadata": {},
   "source": [
    "**2.2** View the `df` object, which is a `pandas` dataframe (df), basically a tabular, 2 dimensional data structure with rows & columns:\n",
    "```\n",
    "df\n",
    "```"
   ]
  },
  {
   "cell_type": "code",
   "execution_count": null,
   "id": "616355d2-731f-4db0-be15-dbd621c96746",
   "metadata": {},
   "outputs": [],
   "source": []
  },
  {
   "cell_type": "code",
   "execution_count": null,
   "id": "ef826f70-d88b-49b8-9c64-3fcaf37567d9",
   "metadata": {},
   "outputs": [],
   "source": []
  },
  {
   "cell_type": "markdown",
   "id": "cd7e36de-2fc9-4c91-bdbb-316f7bb5c996",
   "metadata": {},
   "source": [
    "**2.3** Check the dimensions of the `df` (<no. of rows>, <no. of columns>), should be (1912, 18):\n",
    "```\n",
    "df.shape\n",
    "```"
   ]
  },
  {
   "cell_type": "code",
   "execution_count": null,
   "id": "63786a63-2a8e-4591-913b-089ed2f8ba83",
   "metadata": {},
   "outputs": [],
   "source": []
  },
  {
   "cell_type": "code",
   "execution_count": null,
   "id": "52727a74-89e2-46e6-9c0e-37d4f98f6cd3",
   "metadata": {},
   "outputs": [],
   "source": []
  },
  {
   "cell_type": "markdown",
   "id": "56b321e8-af26-439d-a509-ebe92826bf01",
   "metadata": {},
   "source": [
    "---\n",
    "> ### 3. PREP DATA FOR GENERATING THE PASSING NETWORKS"
   ]
  },
  {
   "cell_type": "markdown",
   "id": "f0652ef9-2e64-4230-b0e4-e5b5ca796ce0",
   "metadata": {},
   "source": [
    "**3.0** Have a look at what's in the `event` column:\n",
    "```\n",
    "df[\"event\"]\n",
    "```"
   ]
  },
  {
   "cell_type": "code",
   "execution_count": null,
   "id": "c24f8fc5-f9ca-4279-8037-61c1cef5a4c5",
   "metadata": {},
   "outputs": [],
   "source": []
  },
  {
   "cell_type": "markdown",
   "id": "85ad26b9-ae27-4d5b-89b1-0aeca94d488e",
   "metadata": {},
   "source": [
    "**3.1** Use the `value_counts()` function to count how many of each type of event is in the `event` column:\n",
    "```\n",
    "df[\"event\"].value_counts()\n",
    "```"
   ]
  },
  {
   "cell_type": "code",
   "execution_count": null,
   "id": "48dab2f1-e84c-48d2-aa20-df91e072e81c",
   "metadata": {},
   "outputs": [],
   "source": []
  },
  {
   "cell_type": "code",
   "execution_count": null,
   "id": "5a9dadca-aa08-484f-9934-c612aad60fc2",
   "metadata": {},
   "outputs": [],
   "source": []
  },
  {
   "cell_type": "markdown",
   "id": "6e431896-9e66-4cd3-a4e6-be2d92a20cd2",
   "metadata": {},
   "source": [
    "**3.2** For analysing Passing Networks we're only interested in successful passes, so let's start to see how we filter the data just for these by first seeing which rows in the `event` column contain the text string `\"completed_pass\"`:\n",
    "```\n",
    "df[\"event\"] == \"completed_pass\"\n",
    "```"
   ]
  },
  {
   "cell_type": "code",
   "execution_count": null,
   "id": "abea6839-2d74-4b1d-ad78-59a32159de5f",
   "metadata": {
    "tags": []
   },
   "outputs": [],
   "source": []
  },
  {
   "cell_type": "code",
   "execution_count": null,
   "id": "008b7fef-2687-4fe6-8b0e-e894d7f4afb0",
   "metadata": {},
   "outputs": [],
   "source": []
  },
  {
   "cell_type": "markdown",
   "id": "13e29f64-5df1-48b5-9e37-e7853ed90c14",
   "metadata": {},
   "source": [
    "**3.3** Let's use this True or False filter to create a subset of the full match data just with the rows/events representing a `\"completed_pass\"`. Save down this subset as a new variable called `\"completed_passes\"`:\n",
    "```\n",
    "completed_passes = df[  df[\"event\"] == \"completed_pass\" ].copy()\n",
    "```"
   ]
  },
  {
   "cell_type": "code",
   "execution_count": null,
   "id": "91773791-ee49-42c6-b055-3dd6c1cf334e",
   "metadata": {},
   "outputs": [],
   "source": []
  },
  {
   "cell_type": "code",
   "execution_count": null,
   "id": "eb2232dd-0826-4cbf-b16f-e646f848839c",
   "metadata": {},
   "outputs": [],
   "source": []
  },
  {
   "cell_type": "markdown",
   "id": "8acd1c9f-0b49-427d-8a0c-d328788d0a19",
   "metadata": {},
   "source": [
    "**3.4** Check what's in the new `\"completed_passes\"` data:\n",
    "```\n",
    "completed_passes\n",
    "```"
   ]
  },
  {
   "cell_type": "code",
   "execution_count": null,
   "id": "904ae633-48bc-48a6-91c2-de895d8f95e9",
   "metadata": {},
   "outputs": [],
   "source": []
  },
  {
   "cell_type": "code",
   "execution_count": null,
   "id": "72598126-fd0b-4bf6-b2a4-3cd88bb1ee9a",
   "metadata": {},
   "outputs": [],
   "source": []
  },
  {
   "cell_type": "markdown",
   "id": "71b63784-2e44-4f6d-ad0e-d6ee042e64f3",
   "metadata": {},
   "source": [
    "**3.5** Choose one of the teams `\"arsenal\"` or `\"man_u\"` to create the Passing Network for and store this in a new variable called `team`:\n",
    "```\n",
    "team = \"arsenal\"\n",
    "```"
   ]
  },
  {
   "cell_type": "code",
   "execution_count": null,
   "id": "8fb2da11-4c97-4a36-8c71-5aeeca28c427",
   "metadata": {},
   "outputs": [],
   "source": []
  },
  {
   "cell_type": "code",
   "execution_count": null,
   "id": "85a0eee8-f99d-49e3-b388-d054ddd8bb82",
   "metadata": {},
   "outputs": [],
   "source": []
  },
  {
   "cell_type": "markdown",
   "id": "bd451b28-de55-41b9-a9cd-2886b63d9d9f",
   "metadata": {},
   "source": [
    "**3.6** Have a look at which of the rows in the `\"player1_team\"` column of `completed_passes` are equal to the value of your `team` variable:\n",
    "```\n",
    "completed_passes[\"player1_team\"] == team\n",
    "```"
   ]
  },
  {
   "cell_type": "code",
   "execution_count": null,
   "id": "0524ff8d-638d-45eb-90a6-2f611dd8f7e7",
   "metadata": {},
   "outputs": [],
   "source": []
  },
  {
   "cell_type": "code",
   "execution_count": null,
   "id": "7424407e-fab7-49ed-ba9c-9325952702e8",
   "metadata": {},
   "outputs": [],
   "source": []
  },
  {
   "cell_type": "markdown",
   "id": "4239392b-e62e-46f9-8b9d-fc611b2d8bd7",
   "metadata": {},
   "source": [
    "**3.7** Create a new variable called `team_passes` containing just the rows from the `completed_passes` data where the value in the `\"player1_team\"` column is the same as the value of your `team` variable, i.e. either `\"arsenal\"` or `\"man_u\"`:\n",
    "```\n",
    "team_passes = completed_passes[completed_passes[\"player1_team\"] == team].copy()\n",
    "```"
   ]
  },
  {
   "cell_type": "code",
   "execution_count": null,
   "id": "1f374f98-212a-433b-8820-5a52cbd6e118",
   "metadata": {},
   "outputs": [],
   "source": []
  },
  {
   "cell_type": "code",
   "execution_count": null,
   "id": "e3218967-610d-4104-825e-93326726a6c0",
   "metadata": {},
   "outputs": [],
   "source": []
  },
  {
   "cell_type": "markdown",
   "id": "b5f691d2-35d8-41d7-a0c8-dc03762c5ab2",
   "metadata": {},
   "source": [
    "**3.8** Check `\"team_passes\"` to see if the additional filter has worked as expected:\n",
    "```\n",
    "team_passes\n",
    "```"
   ]
  },
  {
   "cell_type": "code",
   "execution_count": null,
   "id": "351bc117-797c-4172-ba5b-57d9231702f1",
   "metadata": {},
   "outputs": [],
   "source": []
  },
  {
   "cell_type": "code",
   "execution_count": null,
   "id": "c3a30743-0bad-4669-9308-0a6b080031df",
   "metadata": {},
   "outputs": [],
   "source": []
  },
  {
   "cell_type": "markdown",
   "id": "3fbe7b7d-5a33-4b38-a54a-aaa845957f81",
   "metadata": {},
   "source": [
    "**Question** - how many completed passes did each team make in this match?\n"
   ]
  },
  {
   "cell_type": "code",
   "execution_count": null,
   "id": "031137c3-2ec9-4d95-8266-5529dea9eb26",
   "metadata": {},
   "outputs": [],
   "source": []
  },
  {
   "cell_type": "code",
   "execution_count": null,
   "id": "120be4e0-cfe5-43a5-ab8c-e1efc9c50d2f",
   "metadata": {},
   "outputs": [],
   "source": []
  },
  {
   "cell_type": "markdown",
   "id": "e284fde9-bb08-45ba-a8e3-796cc6916979",
   "metadata": {},
   "source": [
    "---\n",
    "> ### 4. GENERATE THE PASSING NETWORKS"
   ]
  },
  {
   "cell_type": "markdown",
   "id": "4f553cf1-cf8d-4a28-8360-b0c9f9f1f88a",
   "metadata": {},
   "source": [
    "**4.0** Create a Passing Network for your chosen team by calling the `pd.crosstab()` function and giving the function 2x inputs, first the `team_passes[\"player1\"]` column, and second the `team_passes[\"player2\"]` column:\n",
    "```\n",
    "pd.crosstab( team_passes[\"player1\"], team_passes[\"player2\"]  )\n",
    "```"
   ]
  },
  {
   "cell_type": "code",
   "execution_count": null,
   "id": "1baba6b4-6e58-4029-b263-e22f65cfa60b",
   "metadata": {},
   "outputs": [],
   "source": []
  },
  {
   "cell_type": "code",
   "execution_count": null,
   "id": "824cccc6-3b68-4a18-90cc-5043a3d62eb9",
   "metadata": {},
   "outputs": [],
   "source": []
  },
  {
   "cell_type": "markdown",
   "id": "235266c0-9b5c-4bdd-b2ef-6fe1131bf7a2",
   "metadata": {},
   "source": [
    "**4.1** Further customise this function call by using the `normalize=` parameter, which will return values as a proportion of e.g. all the values in the matrix, each row, or each column, by passing this parameter `\"all\"`, `\"index\"`, or `\"columns\"` respectively. Chain on the `round()` function with the input integer `3` to specify rounding the values to 3 significant figures, and then multiply by 100 to display as percentages:\n",
    "\n",
    "```\n",
    "pd.crosstab(team_passes[\"player1\"], team_passes[\"player2\"], normalize=\"all\") .round(3)*100  \n",
    "\n",
    "Extra options:\n",
    "-\"index\", \"columns\"\n",
    "\n",
    "```"
   ]
  },
  {
   "cell_type": "code",
   "execution_count": null,
   "id": "cf39da08-dfcf-4bf3-a713-e855d79712fb",
   "metadata": {},
   "outputs": [],
   "source": []
  },
  {
   "cell_type": "code",
   "execution_count": null,
   "id": "ecc6adb8-6450-4e9f-924d-54b7a3e4158a",
   "metadata": {},
   "outputs": [],
   "source": []
  },
  {
   "cell_type": "markdown",
   "id": "b11dc6cf-7d0b-4162-9a3b-a916e3819d91",
   "metadata": {},
   "source": [
    "**4.2 OPTIONAL EXTENSION** Save this Passing Network as a csv by first storing in a new variable, e.g. `matrix`, and then using the new variable's `\"to_csv()\"` function to create a new csv file:\n",
    "\n",
    "```\n",
    "matrix = pd.crosstab(team_passes[\"player1\"], team_passes[\"player2\"])\n",
    "matrix.to_csv(\"FIFAIntel_matrix.csv\")\n",
    "```"
   ]
  },
  {
   "cell_type": "code",
   "execution_count": null,
   "id": "cea226bf-fddf-4766-82a7-d90b63f123fb",
   "metadata": {},
   "outputs": [],
   "source": []
  },
  {
   "cell_type": "code",
   "execution_count": null,
   "id": "e7796ebe-5d88-4cc7-ae98-f3c069f6b774",
   "metadata": {},
   "outputs": [],
   "source": []
  },
  {
   "cell_type": "markdown",
   "id": "619f209e-2864-445d-92bf-d263cf23cde7",
   "metadata": {},
   "source": [
    "---"
   ]
  },
  {
   "cell_type": "markdown",
   "id": "9be3a1ff-fc9e-4260-9a10-e7c7f855fa7d",
   "metadata": {},
   "source": [
    "_Sports Python Educational Project content, licensed under Attribution-NonCommercial-ShareAlike 4.0 International_"
   ]
  }
 ],
 "metadata": {
  "kernelspec": {
   "display_name": "Python 3 (ipykernel)",
   "language": "python",
   "name": "python3"
  },
  "language_info": {
   "codemirror_mode": {
    "name": "ipython",
    "version": 3
   },
   "file_extension": ".py",
   "mimetype": "text/x-python",
   "name": "python",
   "nbconvert_exporter": "python",
   "pygments_lexer": "ipython3",
   "version": "3.9.7"
  }
 },
 "nbformat": 4,
 "nbformat_minor": 5
}
