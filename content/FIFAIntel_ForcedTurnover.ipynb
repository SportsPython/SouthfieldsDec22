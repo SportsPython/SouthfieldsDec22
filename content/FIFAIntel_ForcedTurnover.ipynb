{
 "cells": [
  {
   "cell_type": "markdown",
   "id": "d56c56b2-fb48-45b8-a5fa-c97210f2b344",
   "metadata": {},
   "source": [
    "## Replicating FIFA Football Intelligence - Forced Turnovers (Team-level)"
   ]
  },
  {
   "cell_type": "markdown",
   "id": "17a59052-2f27-4f95-aedb-71d4ee075b50",
   "metadata": {},
   "source": [
    "---\n",
    "> ### 1. SET UP DEVELOPMENT ENVIRONMENT"
   ]
  },
  {
   "cell_type": "markdown",
   "id": "48830f59-ad87-4aaa-9aff-a70325f629bd",
   "metadata": {},
   "source": [
    "**1.0 Import required Python software into current development environment (i.e. this notebook)**\n",
    "```\n",
    "import pandas as pd\n",
    "import matplotlib.pyplot as plt\n",
    "from PIL import Image\n",
    "```"
   ]
  },
  {
   "cell_type": "code",
   "execution_count": null,
   "id": "479f5794-6d8a-4a27-8bb8-bce8a4f0933a",
   "metadata": {},
   "outputs": [],
   "source": []
  },
  {
   "cell_type": "code",
   "execution_count": null,
   "id": "e7bd7d1c-801c-437f-9948-c642d6ad9797",
   "metadata": {},
   "outputs": [],
   "source": []
  },
  {
   "cell_type": "markdown",
   "id": "1444b1cf-1890-4606-b3df-5d74351fe1fa",
   "metadata": {},
   "source": [
    "**1.1 Configure notebook for code autocompletion + displaying plots + displaying max columns and rows of panda data objects**\n",
    "```\n",
    "%config Completer.use_jedi = False\n",
    "%matplotlib inline\n",
    "pd.options.display.max_rows, pd.options.display.min_rows = 20, 20\n",
    "```"
   ]
  },
  {
   "cell_type": "code",
   "execution_count": null,
   "id": "bbcd1cfe-9242-4841-ab90-671967dd4812",
   "metadata": {},
   "outputs": [],
   "source": []
  },
  {
   "cell_type": "code",
   "execution_count": null,
   "id": "d958b0f9-8b77-44c4-a3c5-28224c2f8151",
   "metadata": {},
   "outputs": [],
   "source": []
  },
  {
   "cell_type": "markdown",
   "id": "c071c3bf-046d-4445-b0a4-7c87ea7e91a8",
   "metadata": {},
   "source": [
    "---\n",
    "> ### 2. LOAD & PREP THE FOOTBALL DATA"
   ]
  },
  {
   "cell_type": "markdown",
   "id": "ac4449e1-4006-4450-9822-84d76f609779",
   "metadata": {},
   "source": [
    "**2.0** Read in the `match_data.csv` file located in the `data` directory (folder):\n",
    "```\n",
    "raw_data = pd.read_csv(\"data/match_data.csv\")\n",
    "```"
   ]
  },
  {
   "cell_type": "code",
   "execution_count": null,
   "id": "1abb3112-826e-4b8f-8bc9-08cd8552b853",
   "metadata": {},
   "outputs": [],
   "source": []
  },
  {
   "cell_type": "code",
   "execution_count": null,
   "id": "b2a901c9-57a7-4774-b6de-01a3c8b78720",
   "metadata": {},
   "outputs": [],
   "source": []
  },
  {
   "cell_type": "markdown",
   "id": "7ce6d588-feaf-44f2-b8e1-151a51a18603",
   "metadata": {},
   "source": [
    "**2.1** Make a copy of the raw data to work on called `df`:\n",
    "\n",
    "```\n",
    "df = raw_data.copy()\n",
    "```"
   ]
  },
  {
   "cell_type": "code",
   "execution_count": null,
   "id": "680e3009-c906-4a8b-9b5e-8a67749c87d7",
   "metadata": {},
   "outputs": [],
   "source": []
  },
  {
   "cell_type": "code",
   "execution_count": null,
   "id": "08793698-c4ee-4395-bbf1-bdf0778b925d",
   "metadata": {},
   "outputs": [],
   "source": []
  },
  {
   "cell_type": "markdown",
   "id": "8a07f9c5-485d-4527-a254-8f3fb3667fa5",
   "metadata": {},
   "source": [
    "**2.2** View the `df` object. This is a `pandas` dataframe object, basically data in a table so has rows and columns like an Excel spreadsheet:\n",
    "```\n",
    "df\n",
    "```"
   ]
  },
  {
   "cell_type": "code",
   "execution_count": null,
   "id": "11048dab-8f98-4ca5-af1c-238a984bfeba",
   "metadata": {},
   "outputs": [],
   "source": []
  },
  {
   "cell_type": "code",
   "execution_count": null,
   "id": "d2d5e399-6e83-4402-82ee-cacb59af4c45",
   "metadata": {
    "tags": []
   },
   "outputs": [],
   "source": []
  },
  {
   "cell_type": "markdown",
   "id": "2b4bd6a9-55c4-4455-85d2-2a1aa654b28e",
   "metadata": {},
   "source": [
    "**2.3** Check the dimensions of the `df` object (<no. of rows>, <no. of columns>) - it should be (1912, 18):\n",
    "```\n",
    "df.shape\n",
    "```"
   ]
  },
  {
   "cell_type": "code",
   "execution_count": null,
   "id": "578bf139-a86f-4239-a3bb-edab013457dd",
   "metadata": {
    "tags": []
   },
   "outputs": [],
   "source": []
  },
  {
   "cell_type": "code",
   "execution_count": null,
   "id": "7aebd60c-71a8-476d-872b-1e61f7aba281",
   "metadata": {},
   "outputs": [],
   "source": []
  },
  {
   "cell_type": "markdown",
   "id": "6fa43fd7-6f98-41f0-ae79-451fd03426b9",
   "metadata": {},
   "source": [
    "**2.4** Load the `pitch.png` graphic located in the `data` directory (folder) and store in a variable called `pitch`:\n",
    "```\n",
    "pitch = Image.open(\"data/pitch.png\")\n",
    "```"
   ]
  },
  {
   "cell_type": "code",
   "execution_count": null,
   "id": "91452b2c-f9cb-4e85-8e45-507e1aea711e",
   "metadata": {},
   "outputs": [],
   "source": []
  },
  {
   "cell_type": "code",
   "execution_count": null,
   "id": "c8edcc71-0386-4005-80fb-bbd2e264edf4",
   "metadata": {},
   "outputs": [],
   "source": []
  },
  {
   "cell_type": "markdown",
   "id": "be6aeb71-1edf-4e22-87b8-39f6e48031a8",
   "metadata": {},
   "source": [
    "**2.5** Check the `pitch` object using the `imshow()` function available from the `matplotlib` plotting library:\n",
    "```\n",
    "plt.imshow(pitch)\n",
    "```"
   ]
  },
  {
   "cell_type": "code",
   "execution_count": null,
   "id": "37961c6f-91c5-4cdb-92d4-b4cc25407c32",
   "metadata": {},
   "outputs": [],
   "source": []
  },
  {
   "cell_type": "code",
   "execution_count": null,
   "id": "2fa65a6d-27a4-4f42-b4b6-171a42fd23c4",
   "metadata": {},
   "outputs": [],
   "source": []
  },
  {
   "cell_type": "markdown",
   "id": "40a06692-f0c8-4dac-9f8a-6bf03de8f702",
   "metadata": {},
   "source": [
    "---\n",
    "> ### 3. PREP DATA FOR GENERATING THE FORCED TURNOVER VISUALISATIONS"
   ]
  },
  {
   "cell_type": "markdown",
   "id": "bd0d1b42-45de-4408-8066-12f96d07fb8c",
   "metadata": {},
   "source": [
    "**3.0** Have a look at what's in the `event_detail` column of the `df` data by using the `value_counts()` function to see the different categories of detailed events and how many rows there are of each category:\n",
    "```\n",
    "df[\"event_detail\"].value_counts()\n",
    "```"
   ]
  },
  {
   "cell_type": "code",
   "execution_count": null,
   "id": "f9245ba3-0ded-4c01-9cc7-e0a030db112f",
   "metadata": {},
   "outputs": [],
   "source": []
  },
  {
   "cell_type": "code",
   "execution_count": null,
   "id": "5aed4c43-2eed-48d7-8cbd-7527593fc804",
   "metadata": {},
   "outputs": [],
   "source": []
  },
  {
   "cell_type": "markdown",
   "id": "458fac60-402b-47d0-8aa2-3ac45920abe9",
   "metadata": {},
   "source": [
    "**3.1** Create a new variable called `metric` that contains the text string `\"forced_turnover\"`:\n",
    "```\n",
    "metric = \"forced_turnover\"\n",
    "```"
   ]
  },
  {
   "cell_type": "code",
   "execution_count": null,
   "id": "b4317ef7-4bdb-4490-bc67-d7817c2b8b50",
   "metadata": {},
   "outputs": [],
   "source": []
  },
  {
   "cell_type": "code",
   "execution_count": null,
   "id": "271f1f75-bbae-43d5-b938-60032d35e193",
   "metadata": {},
   "outputs": [],
   "source": []
  },
  {
   "cell_type": "markdown",
   "id": "0fc58ac6-aa92-4486-8e2f-8cb2cd39d21a",
   "metadata": {},
   "source": [
    "**3.2** Create a new variable called `ft` that contains just the rows from the `df` data where the text in the `\"event_detail\"` column is the same as the text in the `metric` variable, i.e. contains `\"forced_turnover\"`:\n",
    "```\n",
    "ft = df[df[\"event_detail\"] == metric].copy()\n",
    "```"
   ]
  },
  {
   "cell_type": "code",
   "execution_count": null,
   "id": "e6f3b4ec-2d34-4625-b543-e7d0e84e0f40",
   "metadata": {},
   "outputs": [],
   "source": []
  },
  {
   "cell_type": "code",
   "execution_count": null,
   "id": "e8bf8f51-17de-43b2-a271-4119098771e2",
   "metadata": {},
   "outputs": [],
   "source": []
  },
  {
   "cell_type": "markdown",
   "id": "41579c89-392b-48b7-8dde-468263d49ffc",
   "metadata": {},
   "source": [
    "**3.3** Check the `ft` cut of data to see if the filter for the `\"forced_turnover\"` metrics has worked as expected:\n",
    "```\n",
    "ft\n",
    "```"
   ]
  },
  {
   "cell_type": "code",
   "execution_count": null,
   "id": "16e864f3-ad00-4a68-b336-af4ab003bd49",
   "metadata": {},
   "outputs": [],
   "source": []
  },
  {
   "cell_type": "code",
   "execution_count": null,
   "id": "59189f21-d0b9-4b83-889b-7994015aee2d",
   "metadata": {},
   "outputs": [],
   "source": []
  },
  {
   "cell_type": "markdown",
   "id": "04e32417-95cd-4899-82d0-df966c50069a",
   "metadata": {},
   "source": [
    "**3.4** Create a new variable `FT` contains a cut of the `ft` data with just the relevant columns for creating the end data visualisation, i.e. `\"player1\"`, `\"player1_team\"`, `\"event\"`, `\"event_detail\"`, `\"start_x\"`, and `\"start_y\"`:\n",
    "```\n",
    "FT = ft[[\"player1\", \"player1_team\", \"event\", \"event_detail\", \"start_x\", \"start_y\"]].copy()\n",
    "```"
   ]
  },
  {
   "cell_type": "code",
   "execution_count": null,
   "id": "21a19612-58c1-47b5-a09f-602a5561c050",
   "metadata": {},
   "outputs": [],
   "source": []
  },
  {
   "cell_type": "code",
   "execution_count": null,
   "id": "3a41e86e-f426-4b64-99e5-ebedc582e021",
   "metadata": {},
   "outputs": [],
   "source": []
  },
  {
   "cell_type": "markdown",
   "id": "46f737e3-46f9-4946-9cc7-58747ca6d151",
   "metadata": {},
   "source": [
    "**3.5** Check the new `FT` data:\n",
    "```\n",
    "FT\n",
    "```"
   ]
  },
  {
   "cell_type": "code",
   "execution_count": null,
   "id": "2025838b-6464-4269-85c2-caaf2c3df837",
   "metadata": {
    "tags": []
   },
   "outputs": [],
   "source": []
  },
  {
   "cell_type": "markdown",
   "id": "0ad16e8d-9eab-46d0-89e5-91ac09bb7dfe",
   "metadata": {},
   "source": [
    "---\n",
    "> ### 4. GENERATE THE FORCED TURNOVER VISUALISATIONS"
   ]
  },
  {
   "cell_type": "markdown",
   "id": "e724b4a2-2eae-4e32-abbf-1befbd757ef5",
   "metadata": {},
   "source": [
    "**4.0** Use the `matplotlib` plotting library to create scatter graphs over a pitch graphic where the markers representing location that the chosen metric events occurred in the match. The x and y co-ordinates of the relevant events will be plotted, but with separately coloured scatter graphs to differentiate the teams.\n",
    "\n",
    "TIP: Check out the range of official named colors you can use with matplotlib https://matplotlib.org/stable/gallery/color/named_colors.html#css-colors\n",
    "\n",
    "\n",
    "\n",
    "```\n",
    "fig, ax = plt.subplots(figsize=(12,8))\n",
    "plt.axis( [0, 105, 0, 68] )\n",
    "ax.imshow(pitch, extent=[0,105,0,68])\n",
    "\n",
    "for index, row in FT.iterrows():\n",
    "    if row[\"player1_team\"] == \"arsenal\":\n",
    "        plt.scatter(x=row[\"start_x\"], y=row[\"start_y\"], c=\"red\", s=150)\n",
    "    else: \n",
    "        plt.scatter(x=row[\"start_x\"], y=row[\"start_y\"], c=\"blue\", s=150)\n",
    "\n",
    "```\n",
    "Extra options:    \n",
    "-plt.tight_layout()   \n",
    "-edgecolors=\"lightblue\", linewidth=1, alpha=0.8  \n",
    "-plt.savefig(\"FIFAIntel_ForcedTurnovers.png\")"
   ]
  },
  {
   "cell_type": "code",
   "execution_count": null,
   "id": "afab99f1-a27c-4029-a37c-4b84e280baa5",
   "metadata": {},
   "outputs": [],
   "source": []
  },
  {
   "cell_type": "code",
   "execution_count": null,
   "id": "fe8e0023-9c83-425b-a800-1867aafc5061",
   "metadata": {},
   "outputs": [],
   "source": []
  },
  {
   "cell_type": "markdown",
   "id": "0cfbee36-4149-47aa-a8a2-0717fd077371",
   "metadata": {},
   "source": [
    "**4.1** Run some extra steps to import `seaborn` visualisation library into current development environment (i.e. this notebook) - NOTE the `piplite` calls are not standard practice but are necessary workarounds due to certain cutting-edge tech being used for this workshop.\n",
    "```\n",
    "import piplite\n",
    "await piplite.install(\"seaborn\")\n",
    "import seaborn as sns\n",
    "```"
   ]
  },
  {
   "cell_type": "code",
   "execution_count": null,
   "id": "be8b28a7-245e-493a-99e1-39a4e35a910b",
   "metadata": {},
   "outputs": [],
   "source": []
  },
  {
   "cell_type": "code",
   "execution_count": null,
   "id": "4831db30-08d7-4a8f-83d0-090378d96e1a",
   "metadata": {},
   "outputs": [],
   "source": []
  },
  {
   "cell_type": "markdown",
   "id": "39a7cba9-693d-435a-b710-7b5ef2116031",
   "metadata": {},
   "source": [
    "**4.2** Make 2 new cuts of the `FT` data that has just the rows relating to each teams, i.e. where the `\"player1_team\"` column is equal to `arsenal` or `man_u` and saved down to the new variables `ARS` and `MAN` respectively:\n",
    "```\n",
    "ARS = FT[FT[\"player1_team\"] == \"arsenal\"].copy()\n",
    "MAN = FT[FT[\"player1_team\"] == \"man_u\"].copy()\n",
    "```"
   ]
  },
  {
   "cell_type": "code",
   "execution_count": null,
   "id": "22a05e86-e486-4a15-a192-356b7b56d6bf",
   "metadata": {},
   "outputs": [],
   "source": []
  },
  {
   "cell_type": "code",
   "execution_count": null,
   "id": "86c8bbb4-7246-43c6-86e0-9d8128386840",
   "metadata": {},
   "outputs": [],
   "source": []
  },
  {
   "cell_type": "markdown",
   "id": "13735a90-38a2-442a-adbe-e81efd3d376d",
   "metadata": {},
   "source": [
    "**4.3** Use the `seaborn` visualisation library to create a Heat Map of one team's `forced_turnovers` events on the pitch graphic by passing the x and y co-ordinates of where the team's `forced_turnovers` occurred to the `sns.kdeplot()` function:\n",
    "```\n",
    "fig, ax = plt.subplots(figsize=(12,8))\n",
    "plt.axis([0,105,0,68])\n",
    "ax.imshow(pitch, extent=[0,105,0,68])\n",
    "\n",
    "sns.kdeplot(x=ARS[\"start_x\"], y=ARS[\"start_y\"], n_levels=20, cmap=\"rocket_r\", fill=True, alpha=0.6)\n",
    "\n",
    "```\n",
    "Extra options:    \n",
    "-plt.tight_layout()   \n",
    "-cmap options: \"rocket\", \"mako\", \"flare\", and \"crest\". Append \"_r\" to the string to reverse the order of the colours    \n",
    "-plt.savefig(\"FIFAIntel_FTHeatMap.png\")"
   ]
  },
  {
   "cell_type": "code",
   "execution_count": null,
   "id": "60c4f14c-1919-4403-ba00-e8e609457aff",
   "metadata": {
    "tags": []
   },
   "outputs": [],
   "source": []
  },
  {
   "cell_type": "code",
   "execution_count": null,
   "id": "35765c01-283a-4a67-8dcc-bace921ead85",
   "metadata": {},
   "outputs": [],
   "source": []
  },
  {
   "cell_type": "markdown",
   "id": "082bbd1a-aa41-41c8-9ec2-3244da614c4f",
   "metadata": {},
   "source": [
    "**4.4** Repeat for the other team:\n",
    "```\n",
    "fig, ax = plt.subplots(figsize=(12,8))\n",
    "plt.axis([0,105,0,68])\n",
    "ax.imshow(pitch, extent=[0,105,0,68])\n",
    "\n",
    "sns.kdeplot(x = MAN[\"start_x\"], y=MAN[\"start_y\"], n_levels=20, cmap=\"mako_r\", fill=True, alpha=0.6)\n",
    "```\n",
    "Extra options:    \n",
    "-plt.tight_layout()   \n",
    "-cmap options: \"rocket\", \"mako\", \"flare\", and \"crest\". Append \"_r\" to the string to reverse the order of the colours    \n",
    "-plt.savefig(\"FIFAIntel_FTHeatMap.png\")"
   ]
  },
  {
   "cell_type": "code",
   "execution_count": null,
   "id": "a0b28671-c24d-4eae-87b7-8f502572da04",
   "metadata": {},
   "outputs": [],
   "source": []
  },
  {
   "cell_type": "code",
   "execution_count": null,
   "id": "98bcffca-09b1-43c7-9374-2d61911d4e27",
   "metadata": {},
   "outputs": [],
   "source": []
  },
  {
   "cell_type": "markdown",
   "id": "3542c339-3079-4bbb-972b-63876f6a0618",
   "metadata": {},
   "source": [
    "---"
   ]
  },
  {
   "cell_type": "markdown",
   "id": "94523c57-21d3-4634-938a-8cd952a358ee",
   "metadata": {},
   "source": [
    "_Sports Python Educational Project content, licensed under Attribution-NonCommercial-ShareAlike 4.0 International_"
   ]
  }
 ],
 "metadata": {
  "kernelspec": {
   "display_name": "Python 3 (ipykernel)",
   "language": "python",
   "name": "python3"
  },
  "language_info": {
   "codemirror_mode": {
    "name": "ipython",
    "version": 3
   },
   "file_extension": ".py",
   "mimetype": "text/x-python",
   "name": "python",
   "nbconvert_exporter": "python",
   "pygments_lexer": "ipython3",
   "version": "3.9.7"
  }
 },
 "nbformat": 4,
 "nbformat_minor": 5
}
