{
 "cells": [
  {
   "cell_type": "markdown",
   "metadata": {},
   "source": [
    "## WARM-UP EXERCISE - Create FIFA-style Football Intelligence about individual outfield player performance in the Arsenal-Man U match analysed in this workshop\n",
    "Match detail: 21/22 English Premier League match between Arsenal and Man U on 23/4/22, at the time seen as a battle for 4th/the final Champion's League spot. The BBC's match report can be found here: https://www.bbc.co.uk/sport/football/61125048"
   ]
  },
  {
   "cell_type": "markdown",
   "metadata": {},
   "source": [
    "---\n",
    "### 1. Create the function `outfield_player_touches()` by clicking in the cell below and then pressing the triangle button in the menu bar (i.e. run the code)"
   ]
  },
  {
   "cell_type": "code",
   "execution_count": null,
   "metadata": {},
   "outputs": [],
   "source": [
    "def outfield_player_touches(name):\n",
    "    import pandas as pd\n",
    "    import matplotlib.pyplot as plt\n",
    "    from PIL import Image\n",
    "    \n",
    "    df = pd.read_csv(\"data/match_data.csv\")\n",
    "    pitch = Image.open(\"data/pitch.png\")\n",
    "    player_df = df[df[\"player1\"] == name].copy()\n",
    "    player_touches = player_df[ player_df[\"event\"].isin([\"completed_pass\", \"incomplete_pass\", \"dribble\"])].copy()\n",
    "    player_touches[\"dx\"] = player_touches[\"end_x\"] - player_touches[\"start_x\"]\n",
    "    player_touches[\"dy\"] = player_touches[\"end_y\"] - player_touches[\"start_y\"]\n",
    "    \n",
    "    fig, ax = plt.subplots(figsize = (12,8))\n",
    "    plt.axis([0,105,0,68])\n",
    "    ax.imshow(pitch, extent=[0,105,0,68])\n",
    "    \n",
    "    for index, row in player_touches.iterrows():\n",
    "        if row[\"event\"] == \"completed_pass\":\n",
    "            plt.arrow(x=row[\"start_x\"], y=row[\"start_y\"], dx=row[\"dx\"], dy=row[\"dy\"], color=\"maroon\", head_width=1, lw=2)\n",
    "            plt.scatter(x=row[\"start_x\"], y=row[\"start_y\"], s=200, c=\"maroon\", edgecolors=\"white\", lw=1.5)\n",
    "        elif row[\"event\"] == \"dribble\":\n",
    "            plt.arrow(x=row[\"start_x\"], y=row[\"start_y\"], dx=row[\"dx\"], dy=row[\"dy\"], color=\"maroon\", width=1, alpha=0.5)\n",
    "        else:\n",
    "            plt.scatter(x=row[\"start_x\"], y=row[\"start_y\"], s=200, c=\"darkturquoise\", edgecolors=\"white\", lw=1.5, alpha=0.7)\n",
    "    plt.tight_layout()\n",
    "    plt.show()"
   ]
  },
  {
   "cell_type": "markdown",
   "metadata": {},
   "source": [
    "### 2. Choose an outfield player from the match to analyse:\n",
    "\n",
    "**Arsenal**\n",
    "* Starting XI: \"saka\", \"odegaard\", \"tavares\", \"xhaka\", \"cedric\", \"white\", \"gabriel\", \"elneny\", \"nketiah\", \"smith_rowe\", \"ramsdale\"\n",
    "* Subbed on: \"martinelli\", \"holding\", \"tomiyasu\"\n",
    "\n",
    "**Man U**\n",
    "* Starting XI: \"fernandes\", \"ronaldo\", \"sancho\", \"elanga\", \"mctominay\", \"matic\", \"dalot\", \"telles\", \"lindelof\", \"varane\", \"de_gea\", \n",
    "* Subbed on: \"rashford\", \"lingard\", \"mata\" "
   ]
  },
  {
   "cell_type": "markdown",
   "metadata": {},
   "source": [
    "### 3. In the empty cell below run the function created in step 1., passing in the name of your chosen outfield player in quotation marks and then pressing the triangle button again on the menu bar to execute the code. Example code below:\n",
    "```\n",
    "outfield_player_touches(\"saka\")\n",
    "```"
   ]
  },
  {
   "cell_type": "code",
   "execution_count": null,
   "metadata": {},
   "outputs": [],
   "source": []
  },
  {
   "cell_type": "markdown",
   "metadata": {},
   "source": [
    "### 4. What intel can you figure out from this data visualisation about the performance of your chosen outfield player? \n",
    "(Note that Arsenal is attacking to the right, Man U to the left.)"
   ]
  },
  {
   "cell_type": "markdown",
   "metadata": {},
   "source": [
    "---"
   ]
  },
  {
   "cell_type": "markdown",
   "metadata": {},
   "source": [
    "_Sports Python Educational Project content, licensed under Attribution-NonCommercial-ShareAlike 4.0 International_"
   ]
  }
 ],
 "metadata": {
  "kernelspec": {
   "display_name": "Python 3 (ipykernel)",
   "language": "python",
   "name": "python3"
  },
  "language_info": {
   "codemirror_mode": {
    "name": "ipython",
    "version": 3
   },
   "file_extension": ".py",
   "mimetype": "text/x-python",
   "name": "python",
   "nbconvert_exporter": "python",
   "pygments_lexer": "ipython3",
   "version": "3.9.7"
  }
 },
 "nbformat": 4,
 "nbformat_minor": 4
}
