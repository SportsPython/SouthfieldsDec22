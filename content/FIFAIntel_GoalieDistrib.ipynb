{
 "cells": [
  {
   "cell_type": "markdown",
   "id": "637a13ce-a27c-4714-ba5c-a4717f9c6df8",
   "metadata": {},
   "source": [
    "## Replicating FIFA Football Intelligence - Goalkeeping Distributions (Player-level)\n",
    "**Compare how De Gea and Ramsdale distribute the ball**"
   ]
  },
  {
   "cell_type": "markdown",
   "id": "77167bee-a56c-4a5b-a4d5-19332d65d564",
   "metadata": {},
   "source": [
    "---\n",
    "> ### 1. SET UP DEVELOPMENT ENVIRONMENT"
   ]
  },
  {
   "cell_type": "markdown",
   "id": "8fe19909-3553-4aeb-a75c-8f2f4885173c",
   "metadata": {},
   "source": [
    "**1.0 Import required Python software into current development environment (i.e. this notebook)**\n",
    "```\n",
    "import pandas as pd\n",
    "import matplotlib.pyplot as plt\n",
    "from PIL import Image\n",
    "```"
   ]
  },
  {
   "cell_type": "code",
   "execution_count": null,
   "id": "0eb3f8b7-1ab8-4bce-9502-0c02343312b4",
   "metadata": {},
   "outputs": [],
   "source": []
  },
  {
   "cell_type": "code",
   "execution_count": null,
   "id": "41c23b42-8657-428c-aa20-3e0f7cd34d13",
   "metadata": {},
   "outputs": [],
   "source": []
  },
  {
   "cell_type": "markdown",
   "id": "0cdd5edb-4cfa-40bb-8916-2abb5efb3a71",
   "metadata": {},
   "source": [
    "**1.1 Configure notebook for code autocompletion + displaying plots + displaying max columns and rows of panda data objects**\n",
    "```\n",
    "%config Completer.use_jedi = False\n",
    "%matplotlib inline\n",
    "pd.options.display.max_rows, pd.options.display.min_rows = 20, 20\n",
    "```"
   ]
  },
  {
   "cell_type": "code",
   "execution_count": null,
   "id": "b4e0beac-c93b-4236-b448-5f7afc536a4e",
   "metadata": {},
   "outputs": [],
   "source": []
  },
  {
   "cell_type": "code",
   "execution_count": null,
   "id": "9cb85198-f400-45a5-a287-6608aa27cd2d",
   "metadata": {},
   "outputs": [],
   "source": []
  },
  {
   "cell_type": "markdown",
   "id": "17bbda7c-a7be-46ee-950a-8948b0c05b00",
   "metadata": {},
   "source": [
    "---\n",
    "> ### 2. LOAD & PREP DATA"
   ]
  },
  {
   "cell_type": "markdown",
   "id": "a70f7c80-7bbc-4dbf-9629-43e228f48d91",
   "metadata": {},
   "source": [
    "**2.0** Read in the `match_data.csv` file located in the `data` directory (folder)\n",
    "```\n",
    "raw_data = pd.read_csv(\"data/match_data.csv\")\n",
    "```"
   ]
  },
  {
   "cell_type": "code",
   "execution_count": null,
   "id": "df0d446b-4fc0-483e-b639-91e782b0a5b2",
   "metadata": {},
   "outputs": [],
   "source": []
  },
  {
   "cell_type": "code",
   "execution_count": null,
   "id": "030199b0-5631-4046-95e0-1382409fa33d",
   "metadata": {},
   "outputs": [],
   "source": []
  },
  {
   "cell_type": "markdown",
   "id": "b24a908e-3041-4c33-8912-63090c01c566",
   "metadata": {},
   "source": [
    "**2.1** Make a copy of raw data to work on called `df`\n",
    "\n",
    "```\n",
    "df = raw_data.copy()\n",
    "```"
   ]
  },
  {
   "cell_type": "code",
   "execution_count": null,
   "id": "cb901b83-51ab-4091-a394-e09f351bc471",
   "metadata": {},
   "outputs": [],
   "source": []
  },
  {
   "cell_type": "code",
   "execution_count": null,
   "id": "b0ff62f2-b517-4f8a-8e90-fb68d4786d84",
   "metadata": {},
   "outputs": [],
   "source": []
  },
  {
   "cell_type": "markdown",
   "id": "e21fda81-87ce-4d25-ac6e-eedc8d946792",
   "metadata": {},
   "source": [
    "**2.2** View the `df` object. This is a `pandas` dataframe object, basically data in a table so has rows and columns like an Excel spreadsheet:\n",
    "```\n",
    "df\n",
    "```"
   ]
  },
  {
   "cell_type": "code",
   "execution_count": null,
   "id": "e6c31631-511a-4e40-8d1e-6682bcfa9667",
   "metadata": {},
   "outputs": [],
   "source": []
  },
  {
   "cell_type": "code",
   "execution_count": null,
   "id": "614aec33-c50c-43f1-99ac-462351edfb29",
   "metadata": {},
   "outputs": [],
   "source": []
  },
  {
   "cell_type": "markdown",
   "id": "20d4477e-1f8d-428f-afc9-c5ce54c3e574",
   "metadata": {},
   "source": [
    "**2.3** Check the dimensions of the `df` object (<no. of rows>, <no. of columns>) - it should be (1912, 18):\n",
    "```\n",
    "df.shape\n",
    "```"
   ]
  },
  {
   "cell_type": "code",
   "execution_count": null,
   "id": "ea107aea-6294-43db-8da0-2e00bb2f4cc1",
   "metadata": {},
   "outputs": [],
   "source": []
  },
  {
   "cell_type": "code",
   "execution_count": null,
   "id": "d02b472b-3b23-4822-a617-2a7119965dc5",
   "metadata": {},
   "outputs": [],
   "source": []
  },
  {
   "cell_type": "markdown",
   "id": "5b7c78a3-27a0-4db3-b030-1b6ef0013e44",
   "metadata": {},
   "source": [
    "**2.4** Load the `pitch.png` graphic located in the `data` directory (folder) and store in a variable called `pitch`\n",
    "```\n",
    "pitch = Image.open(\"data/pitch.png\")\n",
    "```"
   ]
  },
  {
   "cell_type": "code",
   "execution_count": null,
   "id": "bfe164ff-64ef-4d1c-81e6-f530cd044c08",
   "metadata": {},
   "outputs": [],
   "source": []
  },
  {
   "cell_type": "code",
   "execution_count": null,
   "id": "dd8f6a53-85a4-402a-9dd8-9b568111b2fc",
   "metadata": {
    "tags": []
   },
   "outputs": [],
   "source": []
  },
  {
   "cell_type": "markdown",
   "id": "73b50f02-6f19-4854-9e72-d3c4d58402b7",
   "metadata": {},
   "source": [
    "**2.5** Check the `pitch` object using `imshow()` function available from the `matplotlib` plotting library:\n",
    "```\n",
    "plt.imshow(pitch)\n",
    "```"
   ]
  },
  {
   "cell_type": "code",
   "execution_count": null,
   "id": "e43b9a36-3059-4143-a989-9499307efa9d",
   "metadata": {},
   "outputs": [],
   "source": []
  },
  {
   "cell_type": "code",
   "execution_count": null,
   "id": "ef8f19d2-14cd-4e06-be27-1fbd19e6edb0",
   "metadata": {},
   "outputs": [],
   "source": []
  },
  {
   "cell_type": "markdown",
   "id": "bcb92392-4fe7-4386-9df1-cfec4457f5f4",
   "metadata": {},
   "source": [
    "---\n",
    "> ### 3.PREP DATA FOR GENERATING THE GOALIE DISTRIBUTION VISUALISATIONS"
   ]
  },
  {
   "cell_type": "markdown",
   "id": "4b988a93-2ceb-45b1-9f77-9faaf47aae03",
   "metadata": {},
   "source": [
    "**3.0** Generate a list of all the players, i.e. the text strings, contained in the `player1` column in the `df` data using the `unique()` function:\n",
    "```\n",
    "df[\"player1\"].unique()\n",
    "```"
   ]
  },
  {
   "cell_type": "code",
   "execution_count": null,
   "id": "433cbea8-feb8-42d0-b057-ae7b8e9a2caa",
   "metadata": {},
   "outputs": [],
   "source": []
  },
  {
   "cell_type": "code",
   "execution_count": null,
   "id": "1d445a9f-a921-48dc-af6a-8b6cddb56296",
   "metadata": {},
   "outputs": [],
   "source": []
  },
  {
   "cell_type": "markdown",
   "id": "1f6246c8-1fe0-43fa-9bf1-e172b1bffa54",
   "metadata": {},
   "source": [
    "**3.1** Create a new variable called `goalie` that contains the text string representing either goalie, i.e. `\"de_gea\"` or `\"ramsdale\"`:\n",
    "```\n",
    "goalie = \"de_gea\"\n",
    "```"
   ]
  },
  {
   "cell_type": "code",
   "execution_count": null,
   "id": "c97b9719-f625-4e6f-9f9a-31e3e70648cc",
   "metadata": {},
   "outputs": [],
   "source": []
  },
  {
   "cell_type": "code",
   "execution_count": null,
   "id": "e0e98b7b-c353-402a-b618-0b124ce77b3e",
   "metadata": {},
   "outputs": [],
   "source": []
  },
  {
   "cell_type": "markdown",
   "id": "02d65419-55c3-4621-9f78-30ff65b5edb3",
   "metadata": {},
   "source": [
    "**3.2** Create a new variable called `goalie_df` that contains just the rows from the `df` data where the text in the `\"player1\"` column is the same as the text in the `goalie` variable, i.e. contains `\"de_gea\"` or `\"ramsdale\"`:\n",
    "```\n",
    "goalie_df = df[df[\"player1\"] == goalie].copy()\n",
    "```"
   ]
  },
  {
   "cell_type": "code",
   "execution_count": null,
   "id": "01ad06f6-da42-49b7-b53e-63c5f3b808f3",
   "metadata": {},
   "outputs": [],
   "source": []
  },
  {
   "cell_type": "code",
   "execution_count": null,
   "id": "98c89869-d2e4-45e7-b84e-d1252aa0864c",
   "metadata": {},
   "outputs": [],
   "source": []
  },
  {
   "cell_type": "markdown",
   "id": "c2273cd0-54c2-407f-b502-635e32379424",
   "metadata": {},
   "source": [
    "**3.3** Check the `goalie_df` cut of data to see if the filter for a specific goalie has worked as expected:\n",
    "```\n",
    "goalie_df\n",
    "```"
   ]
  },
  {
   "cell_type": "code",
   "execution_count": null,
   "id": "ac06f89e-34e1-45e6-a0f8-6f3b564b53ae",
   "metadata": {
    "tags": []
   },
   "outputs": [],
   "source": []
  },
  {
   "cell_type": "code",
   "execution_count": null,
   "id": "1cf6ebba-efc9-4d4c-b9c1-13b7d17c60eb",
   "metadata": {},
   "outputs": [],
   "source": []
  },
  {
   "cell_type": "markdown",
   "id": "7ad09c18-d2c9-4545-bf8b-824ff32741aa",
   "metadata": {},
   "source": [
    "**3.4** Have a look at what's in the `event` column of the `goalie_df` data by using the `value_counts()` function to show the different types of events in the data, and how many rows there are of each event type: \n",
    "```\n",
    "goalie_df[\"event\"].value_counts()\n",
    "```"
   ]
  },
  {
   "cell_type": "code",
   "execution_count": null,
   "id": "0628cae1-61c5-4ec8-87b4-51d29c377bd7",
   "metadata": {},
   "outputs": [],
   "source": []
  },
  {
   "cell_type": "code",
   "execution_count": null,
   "id": "2b5569ac-df60-4f24-8a0b-0cb5498eb87d",
   "metadata": {},
   "outputs": [],
   "source": []
  },
  {
   "cell_type": "markdown",
   "id": "19ddcd76-591a-4269-b675-ebb3bafcee49",
   "metadata": {},
   "source": [
    "**3.5** Make a cut of the `goalie_df` that only contains the data on the goalie's ball distribution by filtering `goalie_df` for the rows which have `\"completed_pass\"`, `\"incomplete_pass\"`, or `\"clearance\"` in the `event` column, and saving this down as a new variable called `dist`:\n",
    "```\n",
    "dist = goalie_df[ goalie_df[\"event\"].isin([\"completed_pass\", \"incomplete_pass\", \"clearance\"])].copy()\n",
    "```"
   ]
  },
  {
   "cell_type": "code",
   "execution_count": null,
   "id": "8f0e93cc-6096-4e3e-9012-042f0780f07c",
   "metadata": {},
   "outputs": [],
   "source": []
  },
  {
   "cell_type": "code",
   "execution_count": null,
   "id": "1276f197-54fa-4a98-8504-bebbdfb3dd1e",
   "metadata": {},
   "outputs": [],
   "source": []
  },
  {
   "cell_type": "markdown",
   "id": "11490896-1ffe-4b5d-86e2-e5979a9f7f59",
   "metadata": {},
   "source": [
    "**3.6** Check the `dist` cut of data to see if the additional filtering for just the goalie's ball distributions has worked as expected:\n",
    "```\n",
    "dist\n",
    "```"
   ]
  },
  {
   "cell_type": "code",
   "execution_count": null,
   "id": "21b18894-45b5-4b45-8419-0770dbb74787",
   "metadata": {},
   "outputs": [],
   "source": []
  },
  {
   "cell_type": "code",
   "execution_count": null,
   "id": "c49ca967-4bf9-4e77-b366-c2942a8f35ab",
   "metadata": {},
   "outputs": [],
   "source": []
  },
  {
   "cell_type": "markdown",
   "id": "3d3cfc7c-29ad-4424-a00e-3d26485fc679",
   "metadata": {},
   "source": [
    "**3.7** Use the `drop()` function to remove a selection of unnecessary columns based on their index position in the dataframe - specifying `inplace=True` is critical for making the drop stick rather than just being a temporary view\n",
    "```\n",
    "dist.drop( dist.columns[[ 0,1,2,3,4,6,8,11,16,17 ]], axis=1, inplace=True)\n",
    "```"
   ]
  },
  {
   "cell_type": "code",
   "execution_count": null,
   "id": "2ab39f5e-bdd0-4564-af03-b9bba4ddecd5",
   "metadata": {
    "tags": []
   },
   "outputs": [],
   "source": []
  },
  {
   "cell_type": "code",
   "execution_count": null,
   "id": "447e77b7-d028-4a4f-b121-708032958d29",
   "metadata": {},
   "outputs": [],
   "source": []
  },
  {
   "cell_type": "markdown",
   "id": "19abd310-5626-44c1-8e18-607fa8d97911",
   "metadata": {},
   "source": [
    "**3.8** Check `dist` again to see if the unnecessary columns got dropped:\n",
    "```\n",
    "dist\n",
    "```"
   ]
  },
  {
   "cell_type": "code",
   "execution_count": null,
   "id": "e415f9a7-bd59-4e23-bf32-7eb58457e59e",
   "metadata": {},
   "outputs": [],
   "source": []
  },
  {
   "cell_type": "code",
   "execution_count": null,
   "id": "e6b96a3f-9173-4013-a660-1d9d8879e914",
   "metadata": {},
   "outputs": [],
   "source": []
  },
  {
   "cell_type": "markdown",
   "id": "534b2fc7-bb4d-4d6a-9d5a-2ca276d1bc1f",
   "metadata": {},
   "source": [
    "**3.9** Use the `matplotlib` plotting library to test how to make a basic plot of an arrow on our pitch graphic, `pitch` using the `arrow()` function and test data:\n",
    "```\n",
    "fig, ax = plt.subplots()\n",
    "ax.imshow(pitch, extent=[0, 105, 0, 68])\n",
    "plt.arrow(x=52.5, y=34, dx=20, dy=10, width=0.5)\n",
    "```"
   ]
  },
  {
   "cell_type": "code",
   "execution_count": null,
   "id": "4dde395d-65fd-4c19-8afa-2e7931f33ace",
   "metadata": {},
   "outputs": [],
   "source": []
  },
  {
   "cell_type": "code",
   "execution_count": null,
   "id": "63fdc957-ba85-455f-86a6-8abed7a74c8d",
   "metadata": {
    "tags": []
   },
   "outputs": [],
   "source": []
  },
  {
   "cell_type": "markdown",
   "id": "60d5c5a6-ff48-4781-92d4-569414c8532d",
   "metadata": {},
   "source": [
    "**3.10** Create 2x new columns in the `dist` data called `dx` and `dy` that are the calculated by taking away the `start_x` column from the `end_x` column, and taking away the `start_y` column from the`end_y` column respectively:\n",
    "```\n",
    "dist[\"dx\"] = dist[\"end_x\"] - dist[\"start_x\"]\n",
    "dist[\"dy\"] = dist[\"end_y\"] - dist[\"start_y\"]\n",
    "```"
   ]
  },
  {
   "cell_type": "code",
   "execution_count": null,
   "id": "aa68855c-888a-4cd8-9d59-55f8792c8f36",
   "metadata": {},
   "outputs": [],
   "source": []
  },
  {
   "cell_type": "code",
   "execution_count": null,
   "id": "a8a19681-c716-4cc6-b7df-ff4579f7710f",
   "metadata": {},
   "outputs": [],
   "source": []
  },
  {
   "cell_type": "markdown",
   "id": "a71c2a71-842d-4a0c-aec4-c9478615c00b",
   "metadata": {},
   "source": [
    "**3.11** Check `dist` again to make sure these new columns were made correctly:\n",
    "```\n",
    "dist\n",
    "```"
   ]
  },
  {
   "cell_type": "code",
   "execution_count": null,
   "id": "1f7d5865-9a6c-4aee-962a-7381f2b4e72d",
   "metadata": {
    "tags": []
   },
   "outputs": [],
   "source": []
  },
  {
   "cell_type": "code",
   "execution_count": null,
   "id": "61546458-8320-4b2e-9582-317e1f1c7c84",
   "metadata": {},
   "outputs": [],
   "source": []
  },
  {
   "cell_type": "markdown",
   "id": "02ff3ba8-8ae4-4820-9646-74884aa1a620",
   "metadata": {},
   "source": [
    "---\n",
    "> ### 4. GENERATE THE GOALIE DISTRIBUTION VISUALISATIONS"
   ]
  },
  {
   "cell_type": "markdown",
   "id": "e1fd2944-3d6e-42bb-b5d5-f443cb561de5",
   "metadata": {},
   "source": [
    "**4.0** Use the `matplotlib` plotting library again this time to create arrows and markers that plot on the `pitch` graphic the start and end location of each the distribution actions taken by the chosen goalie. Using a `for loop` and the `iterrows()` function the distribution will be coloured maroon if they are `\"completed_passes\"` or turquoise if not/anything else, i.e. `\"incomplete_pass\"`, and `\"clearance\"`. \n",
    "\n",
    "TIP: Check out the range of official named colors you can use with matplotlib https://matplotlib.org/stable/gallery/color/named_colors.html#css-colors\n",
    "\n",
    "```\n",
    "fig, ax = plt.subplots(figsize=(12,8))\n",
    "plt.axis( [0,105,0,68])\n",
    "ax.imshow(pitch, extent=[0,105,0,68])\n",
    "\n",
    "for index, row in dist.iterrows():\n",
    "    if row[\"event\"] == \"completed_pass\":\n",
    "        plt.arrow(x=row[\"start_x\"], y = row[\"start_y\"], dx= row[\"dx\"], dy=row[\"dy\"], color=\"maroon\", head_width=1, lw=2)\n",
    "        plt.scatter(x= row[\"start_x\"] , y= row[\"start_y\"], s=200, c=\"maroon\", edgecolors=\"white\", lw=1.5)\n",
    "    else:\n",
    "        plt.arrow(x=row[\"start_x\"], y = row[\"start_y\"], dx= row[\"dx\"], dy=row[\"dy\"], color=\"darkturquoise\", head_width=1, lw=2)\n",
    "        plt.scatter(x= row[\"start_x\"] , y= row[\"start_y\"], s=200, c=\"darkturquoise\", edgecolors=\"white\", lw=1.5)\n",
    "```\n",
    "Extra options:    \n",
    "-plt.tight_layout()   \n",
    "-plt.savefig(\"FIFAIntel_GoalieDist.png\")"
   ]
  },
  {
   "cell_type": "code",
   "execution_count": null,
   "id": "30900c63-7551-46d8-af01-3a6b5f5a6154",
   "metadata": {},
   "outputs": [],
   "source": []
  },
  {
   "cell_type": "code",
   "execution_count": null,
   "id": "22e3e185-9988-45e3-a86e-4f925d46567b",
   "metadata": {},
   "outputs": [],
   "source": []
  },
  {
   "cell_type": "markdown",
   "id": "35366801-3409-4174-9fa8-9f5da34671dc",
   "metadata": {},
   "source": [
    "**4.1 OPTIONAL/EXTENSION** Create & run function to make visualisation of Ramsdale's distribution\n",
    "```\n",
    "def ramsdale_dist():\n",
    "    import pandas as pd\n",
    "    import matplotlib.pyplot as plt\n",
    "    from PIL import Image\n",
    "    \n",
    "    df = pd.read_csv(\"data/match_data.csv\")\n",
    "    pitch = Image.open(\"data/pitch.png\")\n",
    "    goalie_df = df[df[\"player1\"] == \"ramsdale\"].copy()\n",
    "    dist = goalie_df[ goalie_df[\"event\"].isin([\"completed_pass\", \"incomplete_pass\", \"clearance\"])].copy()\n",
    "    dist[\"dx\"] = dist[\"end_x\"] - dist[\"start_x\"]\n",
    "    dist[\"dy\"] = dist[\"end_y\"] - dist[\"start_y\"]\n",
    "    \n",
    "    fig, ax = plt.subplots(figsize=(12,8))\n",
    "    plt.axis( [0,105,0,68])\n",
    "    ax.imshow(pitch, extent=[0,105,0,68])\n",
    "    \n",
    "    for index, row in dist.iterrows():\n",
    "        if row[\"event\"] == \"completed_pass\":\n",
    "            plt.arrow(x=row[\"start_x\"], y = row[\"start_y\"], dx= row[\"dx\"], dy=row[\"dy\"], color=\"maroon\", head_width=1, lw=2)\n",
    "            plt.scatter(x= row[\"start_x\"] , y= row[\"start_y\"], s=200, c=\"maroon\", edgecolors=\"white\", lw=1.5)\n",
    "        else:\n",
    "            plt.arrow(x=row[\"start_x\"], y = row[\"start_y\"], dx= row[\"dx\"], dy=row[\"dy\"], color=\"darkturquoise\", head_width=1, lw=2)\n",
    "            plt.scatter(x= row[\"start_x\"] , y= row[\"start_y\"], s=200, c=\"darkturquoise\", edgecolors=\"white\", lw=1.5)\n",
    "    plt.tight_layout()\n",
    "    plt.show()\n",
    "```\n",
    "\n",
    "`ramsdale_dist()`"
   ]
  },
  {
   "cell_type": "code",
   "execution_count": null,
   "id": "a45ccf78-627b-4c5a-954c-5db4a9dcf5c1",
   "metadata": {},
   "outputs": [],
   "source": []
  },
  {
   "cell_type": "code",
   "execution_count": null,
   "id": "f9fd81bd-b6bb-4498-bedd-7b3e3afcbf35",
   "metadata": {},
   "outputs": [],
   "source": []
  },
  {
   "cell_type": "markdown",
   "id": "5404ea8f-21f3-4854-a522-120723df8c27",
   "metadata": {},
   "source": [
    "---"
   ]
  },
  {
   "cell_type": "markdown",
   "id": "5a679ea5-9619-44e3-973a-a7de25669f23",
   "metadata": {},
   "source": [
    "_Sports Python Educational Project content, licensed under Attribution-NonCommercial-ShareAlike 4.0 International_"
   ]
  }
 ],
 "metadata": {
  "kernelspec": {
   "display_name": "Python 3 (ipykernel)",
   "language": "python",
   "name": "python3"
  },
  "language_info": {
   "codemirror_mode": {
    "name": "ipython",
    "version": 3
   },
   "file_extension": ".py",
   "mimetype": "text/x-python",
   "name": "python",
   "nbconvert_exporter": "python",
   "pygments_lexer": "ipython3",
   "version": "3.9.7"
  }
 },
 "nbformat": 4,
 "nbformat_minor": 5
}
